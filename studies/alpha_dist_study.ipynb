{
 "cells": [
  {
   "cell_type": "code",
   "execution_count": 1,
   "metadata": {},
   "outputs": [],
   "source": [
    "import os\n",
    "import numpy as np\n",
    "import matplotlib.pyplot as plt\n",
    "import scipy.stats as stats\n",
    "import math"
   ]
  },
  {
   "cell_type": "code",
   "execution_count": 2,
   "metadata": {},
   "outputs": [],
   "source": [
    "def display_high_number(numbers):\n",
    "    n = 3\n",
    "    output = []\n",
    "    for number in numbers:\n",
    "        output.append(','.join([str(number)[::-1][i:i+n] for i in range(0, len(str(number)), n)])[::-1])\n",
    "    return output"
   ]
  },
  {
   "cell_type": "code",
   "execution_count": 3,
   "metadata": {},
   "outputs": [],
   "source": [
    "def prepare_mode_data(samples):\n",
    "    return [ float(f'{s:.2f}') for s in samples]"
   ]
  },
  {
   "cell_type": "markdown",
   "metadata": {},
   "source": [
    "# Firefly pixel study"
   ]
  },
  {
   "cell_type": "code",
   "execution_count": 4,
   "metadata": {},
   "outputs": [],
   "source": [
    "# 312, 271 => veach scene\n",
    "input_samples = \"data/extract_samples_100K.txt\"\n",
    "ref_input_samples = \"data/extract_samples_10M.txt\""
   ]
  },
  {
   "cell_type": "code",
   "execution_count": 5,
   "metadata": {},
   "outputs": [],
   "source": [
    "data_rgb = None\n",
    "with open(input_samples, 'r') as f:\n",
    "    lines = f.readlines()\n",
    "    data_rgb = [ list(map(float, l.split(','))) for l in lines ]\n",
    "    \n",
    "ref_data_rgb = None\n",
    "with open(ref_input_samples, 'r') as f:\n",
    "    lines = f.readlines()\n",
    "    ref_data_rgb = [ list(map(float, l.split(','))) for l in lines ]"
   ]
  },
  {
   "cell_type": "code",
   "execution_count": 6,
   "metadata": {},
   "outputs": [],
   "source": [
    "data_rgb = np.array(data_rgb)\n",
    "ref_data_rgb = np.array(ref_data_rgb)\n",
    "\n",
    "for i in range(3):\n",
    "    data_rgb[:, i] = np.array(list(map(lambda x: 4253 if x > 1000 else x , data_rgb[:, i])))\n",
    "    ref_data_rgb[:, i] = np.array(list(map(lambda x: 4253 if x > 1000 else x , ref_data_rgb[:, i])))"
   ]
  },
  {
   "cell_type": "markdown",
   "metadata": {},
   "source": [
    "# Compute means"
   ]
  },
  {
   "cell_type": "code",
   "execution_count": 7,
   "metadata": {},
   "outputs": [],
   "source": [
    "# remove of outlier\n",
    "data_filtered_rgb = []\n",
    "for i in range(3):\n",
    "    max_value = np.max(data_rgb[:, i])\n",
    "    mean_value = np.mean(data_rgb[:, i])\n",
    "    data_filtered_rgb.append(np.array(list(map(lambda x: mean_value if x > 2000 else x , data_rgb[:, i]))))\n",
    "    \n",
    "data_filtered_rgb = np.array(data_filtered_rgb)\n",
    "\n",
    "ref_data_filtered_rgb = []\n",
    "for i in range(3):\n",
    "    max_value = np.max(ref_data_rgb[:, i])\n",
    "    mean_value = np.mean(ref_data_rgb[:, i])\n",
    "    ref_data_filtered_rgb.append(np.array(list(map(lambda x: mean_value if x > 2000 else x , ref_data_rgb[:, i]))))\n",
    "    \n",
    "ref_data_filtered_rgb = np.array(ref_data_filtered_rgb)"
   ]
  },
  {
   "cell_type": "code",
   "execution_count": 8,
   "metadata": {},
   "outputs": [
    {
     "name": "stdout",
     "output_type": "stream",
     "text": [
      "0.016768410639697043\n"
     ]
    }
   ],
   "source": [
    "r_true_mean = np.mean(ref_data_filtered_rgb[0])\n",
    "print(r_true_mean)"
   ]
  },
  {
   "cell_type": "code",
   "execution_count": 9,
   "metadata": {},
   "outputs": [
    {
     "data": {
      "text/plain": [
       "0.0180285459340074"
      ]
     },
     "execution_count": 9,
     "metadata": {},
     "output_type": "execute_result"
    }
   ],
   "source": [
    "np.mean(data_filtered_rgb[0])"
   ]
  },
  {
   "cell_type": "code",
   "execution_count": 10,
   "metadata": {},
   "outputs": [],
   "source": [
    "def compute_means(samples):\n",
    "    \n",
    "    means = []\n",
    "    samples_sum = 0\n",
    "    \n",
    "    for i in range(len(samples)):\n",
    "        samples_sum += samples[i]\n",
    "        means.append(samples_sum / (i + 1))\n",
    "        \n",
    "    return means"
   ]
  },
  {
   "cell_type": "markdown",
   "metadata": {},
   "source": [
    "# Gini value from firefly sample"
   ]
  },
  {
   "cell_type": "code",
   "execution_count": 11,
   "metadata": {},
   "outputs": [],
   "source": [
    "def gini(array):\n",
    "    \"\"\"Calculate the Gini coefficient of a numpy array.\"\"\"\n",
    "    # based on bottom eq: http://www.statsdirect.com/help/content/image/stat0206_wmf.gif\n",
    "    # from: http://www.statsdirect.com/help/default.htm#nonparametric_methods/gini.htm\n",
    "    array = array.flatten() #all values are treated equally, arrays must be 1d\n",
    "    if np.amin(array) < 0:\n",
    "        array -= np.amin(array) #values cannot be negative\n",
    "    array += 0.0000001 #values cannot be 0\n",
    "    array = np.sort(array) #values must be sorted\n",
    "    index = np.arange(1,array.shape[0]+1) #index per array element\n",
    "    n = array.shape[0]#number of array elements\n",
    "    return ((np.sum((2 * index - n  - 1) * array)) / (n * np.sum(array))) #Gini coefficient"
   ]
  },
  {
   "cell_type": "code",
   "execution_count": 12,
   "metadata": {},
   "outputs": [],
   "source": [
    "def create_k_means(samples, k=11):\n",
    "    \n",
    "    means = []\n",
    "    counters = []\n",
    "    \n",
    "    for i in range(k):\n",
    "        means.append(0)\n",
    "        counters.append(0)\n",
    "        \n",
    "    index = 0\n",
    "    final_means = []\n",
    "    for s in samples:\n",
    "        \n",
    "        means[index] += s\n",
    "        counters[index] += 1\n",
    "        \n",
    "        index += 1\n",
    "        \n",
    "        if index >= k:\n",
    "            index = 0\n",
    "            \n",
    "        current_means = []\n",
    "        for i in range(k):\n",
    "            \n",
    "            if counters[i] != 0:\n",
    "                current_means.append(means[i] / counters[i])\n",
    "            \n",
    "        final_means.append(current_means)\n",
    "    \n",
    "    return final_means"
   ]
  },
  {
   "cell_type": "markdown",
   "metadata": {},
   "source": [
    "# Alpha-dist-MON study"
   ]
  },
  {
   "cell_type": "code",
   "execution_count": 13,
   "metadata": {},
   "outputs": [],
   "source": [
    "def alpha_mon(means, nexpected=11, alpha=0.5):\n",
    "    \n",
    "    n = len(means)\n",
    "    mIndex = int(len(means) / 2)\n",
    "    \n",
    "    meansSorted = sorted(means)\n",
    "    \n",
    "    meanSum = meansSorted[mIndex]\n",
    "    weightSum = 1\n",
    "    \n",
    "    if n < nexpected:\n",
    "        return np.median(meansSorted)\n",
    "    \n",
    "    for i in range(1, mIndex + 1):\n",
    "        confidence = pow(alpha, i)\n",
    "        \n",
    "        meanSum += meansSorted[mIndex - i] * confidence\n",
    "        meanSum += meansSorted[mIndex + i] * confidence\n",
    "        weightSum += 2 * confidence\n",
    "        \n",
    "    return meanSum / weightSum"
   ]
  },
  {
   "cell_type": "code",
   "execution_count": 14,
   "metadata": {},
   "outputs": [],
   "source": [
    "def alpha_dist_mon(means, nexpected=11, alpha=0.5):\n",
    "    \n",
    "    n = len(means)\n",
    "    mIndex = int(len(means) / 2)\n",
    "    \n",
    "    meansSorted = sorted(means)\n",
    "    \n",
    "    meanSum = meansSorted[mIndex]\n",
    "    weightSum = 1\n",
    "    \n",
    "    if n < nexpected:\n",
    "        return np.median(meansSorted)\n",
    "    \n",
    "    for i in range(1, int(mIndex * alpha) + 1):\n",
    "        \n",
    "        meanSum += meansSorted[mIndex - i]\n",
    "        meanSum += meansSorted[mIndex + i]\n",
    "        weightSum += 2\n",
    "        \n",
    "    return meanSum / weightSum"
   ]
  },
  {
   "cell_type": "code",
   "execution_count": 15,
   "metadata": {},
   "outputs": [],
   "source": [
    "def binary_gmon(means, nexpected=11, g=0.5):\n",
    "    \n",
    "    if g <= 0.25:\n",
    "        return np.mean(means)\n",
    "    else:\n",
    "        return np.median(means)"
   ]
  },
  {
   "cell_type": "code",
   "execution_count": 16,
   "metadata": {},
   "outputs": [],
   "source": [
    "def dist_mon(means, nexpected=11, ntaken=3):\n",
    "    \n",
    "    n = len(means)\n",
    "    mIndex = int(len(means) / 2)\n",
    "    \n",
    "    meansSorted = sorted(means)\n",
    "    \n",
    "    meanSum = meansSorted[mIndex]\n",
    "    weightSum = 1\n",
    "    \n",
    "    if n < nexpected:\n",
    "        return np.median(meansSorted)\n",
    "    \n",
    "    for i in range(1, ntaken + 1):\n",
    "        \n",
    "        meanSum += meansSorted[mIndex - i]\n",
    "        meanSum += meansSorted[mIndex + i]\n",
    "        weightSum += 2\n",
    "        \n",
    "    return meanSum / weightSum"
   ]
  },
  {
   "cell_type": "markdown",
   "metadata": {},
   "source": [
    "### Noisy study"
   ]
  },
  {
   "cell_type": "code",
   "execution_count": 17,
   "metadata": {},
   "outputs": [],
   "source": [
    "samples_axis_mean = data_rgb[:, 0]\n",
    "means_evolution_k11 = create_k_means(samples_axis_mean, k=11)\n",
    "means_evolution_k15 = create_k_means(samples_axis_mean, k=15)\n",
    "means_evolution_k21 = create_k_means(samples_axis_mean, k=21)\n",
    "\n",
    "gini_data_k11 = [ gini(np.array(m)) for m in means_evolution_k11 ]\n",
    "check_gini_values_k11 = np.array(list(map(lambda x: 1 if x == 0 else x, gini_data_k11)))\n",
    "\n",
    "gini_data_k15 = [ gini(np.array(m)) for m in means_evolution_k15 ]\n",
    "check_gini_values_k15 = np.array(list(map(lambda x: 1 if x == 0 else x, gini_data_k15)))\n",
    "\n",
    "gini_data_k21 = [ gini(np.array(m)) for m in means_evolution_k21 ]\n",
    "check_gini_values_k21 = np.array(list(map(lambda x: 1 if x == 0 else x, gini_data_k21)))"
   ]
  },
  {
   "cell_type": "code",
   "execution_count": 18,
   "metadata": {},
   "outputs": [],
   "source": [
    "means_evolution_k11 = create_k_means(data_rgb[:, 0], k=11)\n",
    "means_evolution_k21 = create_k_means(data_rgb[:, 0], k=21)"
   ]
  },
  {
   "cell_type": "code",
   "execution_count": 19,
   "metadata": {},
   "outputs": [],
   "source": [
    "means = [ np.mean(m) for m in means_evolution_k11 ]"
   ]
  },
  {
   "cell_type": "code",
   "execution_count": 20,
   "metadata": {},
   "outputs": [],
   "source": [
    "MON_k11 = [ np.median(m) for m in means_evolution_k11 ]\n",
    "MON_k21 = [ np.median(m) for m in means_evolution_k21 ]"
   ]
  },
  {
   "cell_type": "code",
   "execution_count": 21,
   "metadata": {},
   "outputs": [],
   "source": [
    "GMON_k11 = [ alpha_mon(m, 11, 1 - gini_data_k11[i]) for i, m in enumerate(means_evolution_k11) ]\n",
    "GMON_k21 = [ alpha_mon(m, 21, 1 - gini_data_k21[i]) for i, m in enumerate(means_evolution_k21) ]"
   ]
  },
  {
   "cell_type": "code",
   "execution_count": 22,
   "metadata": {},
   "outputs": [],
   "source": [
    "GMON_k11_mid = [ alpha_dist_mon(m, 11, 0.5) for i, m in enumerate(means_evolution_k11) ]\n",
    "GMON_k21_mid = [ alpha_dist_mon(m, 21, 0.5) for i, m in enumerate(means_evolution_k21) ]"
   ]
  },
  {
   "cell_type": "code",
   "execution_count": 23,
   "metadata": {},
   "outputs": [],
   "source": [
    "GDMON_k11 = [ alpha_dist_mon(m, 11, 1 - gini_data_k11[i]) for i, m in enumerate(means_evolution_k11) ]\n",
    "GDMON_k21 = [ alpha_dist_mon(m, 21, 1 - gini_data_k21[i]) for i, m in enumerate(means_evolution_k21) ]"
   ]
  },
  {
   "cell_type": "code",
   "execution_count": 24,
   "metadata": {},
   "outputs": [],
   "source": [
    "GMONb_k11 = [ binary_gmon(m, 11, gini_data_k11[i]) for i, m in enumerate(means_evolution_k11) ]\n",
    "GMONb_k21 = [ binary_gmon(m, 21, gini_data_k21[i]) for i, m in enumerate(means_evolution_k21) ]"
   ]
  },
  {
   "cell_type": "code",
   "execution_count": 25,
   "metadata": {},
   "outputs": [
    {
     "data": {
      "image/png": "[encoded data removed]",
      "text/plain": [
       "<Figure size 1296x576 with 1 Axes>"
      ]
     },
     "metadata": {
      "needs_background": "light"
     },
     "output_type": "display_data"
    }
   ],
   "source": [
    "params = {'backend': 'ps',\n",
    "          'axes.labelsize': 54,\n",
    "          'font.size': 40,\n",
    "          'legend.fontsize': 36,\n",
    "          'xtick.labelsize': 42,\n",
    "          'ytick.labelsize': 42,\n",
    "          'text.usetex': True,\n",
    "          'font.style': 'normal',\n",
    "          'font.weight': 'bold',\n",
    "          'axes.linewidth': 1.5,\n",
    "          'lines.linewidth': 4,\n",
    "          'figure.figsize': (18, 8)}\n",
    "\n",
    "\n",
    "plt.rcParams.update(params)\n",
    "\n",
    "plt.margins(tight=True)\n",
    "plt.tick_params(axis='both', width=2, length=15)\n",
    "\n",
    "labels = ['R', 'G', 'B']\n",
    "\n",
    "plt.plot([0, 100000], [r_true_mean, r_true_mean], lw=5, linestyle=\"--\")\n",
    "plt.plot(means, label='Mean', linewidth=4)\n",
    "plt.plot(MON_k11, label='MoN ($M=11$)', linewidth=4, alpha=0.8)\n",
    "#plt.plot(GMON_k11, label=r'$G$-MON ($M=11$)', linewidth=4)\n",
    "plt.plot(GDMON_k11, label=r'$G$-MoN ($M=11$)', linewidth=4, alpha=0.8)\n",
    "plt.plot(GMONb_k11, label=r'$G$-MoN$_b$ ($M=11$)', linewidth=4, alpha=0.8)\n",
    "#plt.plot(GMON_k11, label=r'$G$-MON ($\\alpha = 1 - G$)', linewidth=4)\n",
    "#plt.plot(GMON_k11_mid, label=r'$G$-MON ($\\alpha = 0.5$)', linewidth=4)\n",
    "#plt.xlim(-1, 100)\n",
    "        \n",
    "plt.xlabel(r\"$n$\")\n",
    "plt.ylabel(r\"Estimator\")\n",
    "#plt.ylim(0, 0.15)\n",
    "#plt.xlim(-0.03, 6)\n",
    "plt.ylim(0, 0.04)\n",
    "plt.legend()\n",
    "plt.legend(loc='upper right', bbox_to_anchor=(1.0, 1.0), shadow=True, ncol=2, columnspacing=1)\n",
    "#plt.legend(loc='upper center', bbox_to_anchor=(0.5, -0.25), shadow=True, ncol=3)\n",
    "#plt.xticks(np.arange(-10, 15, step=5), np.arange(-10, 15, step=5))  # Set label locations.\n",
    "plt.xticks(np.arange(0, 120000, step=20000), display_high_number(np.arange(0, 120000, step=20000)))  # Set label locations.\n",
    "plt.yticks(np.arange(0, 0.05, step=0.01), prepare_mode_data(np.arange(0, 0.05, step=0.01)))\n",
    "#plt.xticks(fontsize=14)\n",
    "#plt.yticks(fontsize=14)\n",
    "plt.savefig(\"images/amon_estimators_G_and_D_MON_outliers.png\", transparent=True, bbox_inches = 'tight', pad_inches = 0.2)\n",
    "plt.show()"
   ]
  },
  {
   "cell_type": "code",
   "execution_count": 26,
   "metadata": {},
   "outputs": [],
   "source": [
    "samples_axis_mean = data_filtered_rgb[:, 0]\n",
    "means_evolution_filtered_k11 = create_k_means(data_filtered_rgb[0], k=11)\n",
    "means_evolution_filtered_k15 = create_k_means(data_filtered_rgb[0], k=15)\n",
    "means_evolution_filtered_k21 = create_k_means(data_filtered_rgb[0], k=21)\n",
    "\n",
    "gini_data_k11 = [ gini(np.array(m)) for m in means_evolution_filtered_k11 ]\n",
    "check_gini_values_k11 = np.array(list(map(lambda x: 1 if x == 0 else x, gini_data_k11)))\n",
    "\n",
    "gini_data_k15 = [ gini(np.array(m)) for m in means_evolution_filtered_k15 ]\n",
    "check_gini_values_k15 = np.array(list(map(lambda x: 1 if x == 0 else x, gini_data_k15)))\n",
    "\n",
    "gini_data_k21 = [ gini(np.array(m)) for m in means_evolution_filtered_k21 ]\n",
    "check_gini_values_k21 = np.array(list(map(lambda x: 1 if x == 0 else x, gini_data_k21)))"
   ]
  },
  {
   "cell_type": "code",
   "execution_count": 27,
   "metadata": {},
   "outputs": [],
   "source": [
    "means = [ np.mean(m) for m in means_evolution_filtered_k11 ]"
   ]
  },
  {
   "cell_type": "code",
   "execution_count": 28,
   "metadata": {},
   "outputs": [],
   "source": [
    "GMON_k11 = [ alpha_mon(m, 11, 1 - gini_data_k11[i]) for i, m in enumerate(means_evolution_filtered_k11) ]\n",
    "GMON_k21 = [ alpha_mon(m, 21, 1 - gini_data_k21[i]) for i, m in enumerate(means_evolution_filtered_k21) ]"
   ]
  },
  {
   "cell_type": "code",
   "execution_count": 29,
   "metadata": {},
   "outputs": [],
   "source": [
    "GMON_k11_mid = [ alpha_dist_mon(m, 11, 0.5) for i, m in enumerate(means_evolution_filtered_k11) ]\n",
    "GMON_k21_mid = [ alpha_dist_mon(m, 21, 0.5) for i, m in enumerate(means_evolution_filtered_k21) ]"
   ]
  },
  {
   "cell_type": "code",
   "execution_count": 30,
   "metadata": {},
   "outputs": [],
   "source": [
    "GDMON_k11 = [ alpha_dist_mon(m, 11, 1 - gini_data_k11[i]) for i, m in enumerate(means_evolution_filtered_k11) ]\n",
    "GDMON_k21 = [ alpha_dist_mon(m, 21, 1 - gini_data_k21[i]) for i, m in enumerate(means_evolution_filtered_k21) ]"
   ]
  },
  {
   "cell_type": "code",
   "execution_count": 31,
   "metadata": {},
   "outputs": [],
   "source": [
    "GMONb_k11 = [ binary_gmon(m, 11, gini_data_k11[i]) for i, m in enumerate(means_evolution_filtered_k11) ]\n",
    "GMONb_k21 = [ binary_gmon(m, 21, gini_data_k21[i]) for i, m in enumerate(means_evolution_filtered_k21) ]"
   ]
  },
  {
   "cell_type": "code",
   "execution_count": 32,
   "metadata": {},
   "outputs": [
    {
     "data": {
      "image/png": "[encoded data removed]",
      "text/plain": [
       "<Figure size 1296x576 with 1 Axes>"
      ]
     },
     "metadata": {
      "needs_background": "light"
     },
     "output_type": "display_data"
    }
   ],
   "source": [
    "params = {'backend': 'ps',\n",
    "          'axes.labelsize': 54,\n",
    "          'font.size': 40,\n",
    "          'legend.fontsize': 36,\n",
    "          'xtick.labelsize': 42,\n",
    "          'ytick.labelsize': 42,\n",
    "          'text.usetex': True,\n",
    "          'font.style': 'normal',\n",
    "          'font.weight': 'bold',\n",
    "          'axes.linewidth': 1.5,\n",
    "          'lines.linewidth': 4,\n",
    "          'figure.figsize': (18, 8)}\n",
    "\n",
    "\n",
    "plt.rcParams.update(params)\n",
    "\n",
    "plt.margins(tight=True)\n",
    "plt.tick_params(axis='both', width=2, length=15)\n",
    "\n",
    "labels = ['R', 'G', 'B']\n",
    "\n",
    "plt.plot([0, 100000], [r_true_mean, r_true_mean], lw=5, linestyle=\"--\")\n",
    "plt.plot(means, label='Mean', linewidth=4)\n",
    "plt.plot(MON_k11, label='MoN ($M=11$)', linewidth=4, alpha=0.8)\n",
    "#plt.plot(GMON_k11, label=r'$G$-MON ($M=11$)', linewidth=4)\n",
    "plt.plot(GDMON_k11, label=r'$G$-MoN ($M=11$)', linewidth=4, alpha=0.8)\n",
    "plt.plot(GMONb_k11, label=r'$G$-MoN$_b$ ($M=11$)', linewidth=4, alpha=0.8)\n",
    "\n",
    "#plt.xlim(-1, 100)\n",
    "        \n",
    "plt.xlabel(r\"$n$\")\n",
    "plt.ylabel(r\"Estimator\")\n",
    "#plt.ylim(0, 0.15)\n",
    "#plt.xlim(-0.03, 6)\n",
    "#plt.ylim(0.15, 0.20)\n",
    "\n",
    "plt.ylim(0, 0.04)\n",
    "plt.legend()\n",
    "plt.legend(loc='upper right', bbox_to_anchor=(1.0, 1.0), shadow=True, ncol=2, columnspacing=1)\n",
    "#plt.legend(loc='upper center', bbox_to_anchor=(0.5, -0.25), shadow=True, ncol=3)\n",
    "#plt.xticks(np.arange(-10, 15, step=5), np.arange(-10, 15, step=5))  # Set label locations.\n",
    "plt.xticks(np.arange(0, 120000, step=20000), display_high_number(np.arange(0, 120000, step=20000)))  # Set label locations.\n",
    "plt.yticks(np.arange(0, 0.05, step=0.01), prepare_mode_data(np.arange(0, 0.05, step=0.01)))\n",
    "#plt.xticks(fontsize=14)\n",
    "#plt.yticks(fontsize=14)\n",
    "plt.savefig(\"images/amon_estimators_G_and_D_MON_no_outlier.png\", transparent=True, bbox_inches = 'tight', pad_inches = 0.2)\n",
    "plt.show()"
   ]
  },
  {
   "cell_type": "markdown",
   "metadata": {},
   "source": [
    "### alpha and gamma study"
   ]
  },
  {
   "cell_type": "code",
   "execution_count": 33,
   "metadata": {},
   "outputs": [],
   "source": [
    "samples_axis_mean = data_rgb[:, 0]\n",
    "means_evolution_k11 = create_k_means(samples_axis_mean, k=11)\n",
    "means_evolution_k15 = create_k_means(samples_axis_mean, k=15)\n",
    "means_evolution_k21 = create_k_means(samples_axis_mean, k=21)\n",
    "\n",
    "gini_data_k11 = [ gini(np.array(m)) for m in means_evolution_k11 ]\n",
    "check_gini_values_k11 = np.array(list(map(lambda x: 1 if x == 0 else x, gini_data_k11)))\n",
    "\n",
    "gini_data_k15 = [ gini(np.array(m)) for m in means_evolution_k15 ]\n",
    "check_gini_values_k15 = np.array(list(map(lambda x: 1 if x == 0 else x, gini_data_k15)))\n",
    "\n",
    "gini_data_k21 = [ gini(np.array(m)) for m in means_evolution_k21 ]\n",
    "check_gini_values_k21 = np.array(list(map(lambda x: 1 if x == 0 else x, gini_data_k21)))"
   ]
  },
  {
   "cell_type": "code",
   "execution_count": 34,
   "metadata": {},
   "outputs": [],
   "source": [
    "means_evolution_k11 = create_k_means(data_rgb[:, 0], k=11)\n",
    "means_evolution_k21 = create_k_means(data_rgb[:, 0], k=21)"
   ]
  },
  {
   "cell_type": "code",
   "execution_count": 35,
   "metadata": {},
   "outputs": [],
   "source": [
    "means = [ np.mean(m) for m in means_evolution_k11 ]"
   ]
  },
  {
   "cell_type": "code",
   "execution_count": null,
   "metadata": {},
   "outputs": [],
   "source": [
    "MON_k11 = [ np.median(m) for m in means_evolution_k11 ]\n",
    "MON_k21 = [ np.median(m) for m in means_evolution_k21 ]"
   ]
  },
  {
   "cell_type": "code",
   "execution_count": null,
   "metadata": {},
   "outputs": [],
   "source": [
    "AMON_k11 = [ alpha_mon(m, 11, 0.5) for m in means_evolution_k11 ]\n",
    "AMON_k21 = [ alpha_mon(m, 21, 0.5) for m in means_evolution_k21 ]"
   ]
  },
  {
   "cell_type": "code",
   "execution_count": null,
   "metadata": {},
   "outputs": [],
   "source": [
    "ADMON_k11 = [ dist_mon(m, 11, 4) for m in means_evolution_k11 ]\n",
    "ADMON_k21 = [ dist_mon(m, 21, 4) for m in means_evolution_k21 ]"
   ]
  },
  {
   "cell_type": "code",
   "execution_count": null,
   "metadata": {},
   "outputs": [],
   "source": [
    "params = {'backend': 'ps',\n",
    "          'axes.labelsize': 54,\n",
    "          'font.size': 40,\n",
    "          'legend.fontsize': 38,\n",
    "          'xtick.labelsize': 42,\n",
    "          'ytick.labelsize': 42,\n",
    "          'text.usetex': True,\n",
    "          'font.style': 'normal',\n",
    "          'font.weight': 'bold',\n",
    "          'axes.linewidth': 1.5,\n",
    "          'lines.linewidth': 4,\n",
    "          'figure.figsize': (18, 10)}\n",
    "\n",
    "\n",
    "plt.rcParams.update(params)\n",
    "\n",
    "plt.margins(tight=True)\n",
    "plt.tick_params(axis='both', width=2, length=15)\n",
    "\n",
    "labels = ['R', 'G', 'B']\n",
    "\n",
    "plt.plot([0, 100000], [r_true_mean, r_true_mean], lw=5, linestyle=\"--\")\n",
    "plt.plot(means, label='Mean', linewidth=4)\n",
    "plt.plot(MON_k11, label='MoN ($M=11$)', linewidth=4)\n",
    "#plt.plot(AMON_k11, label=r'$\\alpha$-MON ($\\alpha=0.5$)', linewidth=4)\n",
    "plt.plot(ADMON_k11, label=r'MoN ($M=11$ and $c = 1$)', linewidth=4)\n",
    "#plt.plot(GMON_k11, label=r'$G$-MON ($\\alpha = 1 - G$)', linewidth=4)\n",
    "#plt.plot(GMON_k11_mid, label=r'$G$-MON ($\\alpha = 0.5$)', linewidth=4)\n",
    "#plt.xlim(-1, 100)\n",
    "        \n",
    "plt.xlabel(r\"$n$\")\n",
    "plt.ylabel(r\"Estimator\")\n",
    "#plt.ylim(0, 0.15)\n",
    "#plt.xlim(-0.03, 6)\n",
    "plt.ylim(0, 0.04)\n",
    "plt.legend(loc='upper right')\n",
    "plt.legend(loc='upper right', bbox_to_anchor=(1.0, 1.0), shadow=True, ncol=1, columnspacing=1)\n",
    "#plt.legend(loc='upper center', bbox_to_anchor=(0.5, -0.25), shadow=True, ncol=3)\n",
    "#plt.xticks(np.arange(-10, 15, step=5), np.arange(-10, 15, step=5))  # Set label locations.\n",
    "plt.xticks(np.arange(0, 120000, step=20000), display_high_number(np.arange(0, 120000, step=20000)))  # Set label locations.\n",
    "plt.yticks(np.arange(0, 0.05, step=0.01), prepare_mode_data(np.arange(0, 0.05, step=0.01)))\n",
    "#plt.xticks(fontsize=14)\n",
    "#plt.yticks(fontsize=14)\n",
    "plt.savefig(\"images/amon_estimators_A_and_G_outliers.png\", transparent=True, bbox_inches = 'tight', pad_inches = 0.2)\n",
    "plt.show()"
   ]
  },
  {
   "cell_type": "code",
   "execution_count": null,
   "metadata": {},
   "outputs": [],
   "source": [
    "samples_axis_mean = data_filtered_rgb[:, 0]\n",
    "means_evolution_filtered_k11 = create_k_means(data_filtered_rgb[0], k=11)\n",
    "means_evolution_filtered_k15 = create_k_means(data_filtered_rgb[0], k=15)\n",
    "means_evolution_filtered_k21 = create_k_means(data_filtered_rgb[0], k=21)\n",
    "\n",
    "gini_data_k11 = [ gini(np.array(m)) for m in means_evolution_filtered_k11 ]\n",
    "check_gini_values_k11 = np.array(list(map(lambda x: 1 if x == 0 else x, gini_data_k11)))\n",
    "\n",
    "gini_data_k15 = [ gini(np.array(m)) for m in means_evolution_filtered_k15 ]\n",
    "check_gini_values_k15 = np.array(list(map(lambda x: 1 if x == 0 else x, gini_data_k15)))\n",
    "\n",
    "gini_data_k21 = [ gini(np.array(m)) for m in means_evolution_filtered_k21 ]\n",
    "check_gini_values_k21 = np.array(list(map(lambda x: 1 if x == 0 else x, gini_data_k21)))"
   ]
  },
  {
   "cell_type": "code",
   "execution_count": null,
   "metadata": {},
   "outputs": [],
   "source": [
    "means = [ np.mean(m) for m in means_evolution_filtered_k11 ]"
   ]
  },
  {
   "cell_type": "code",
   "execution_count": null,
   "metadata": {},
   "outputs": [],
   "source": [
    "MON_k11 = [ np.median(m) for m in means_evolution_filtered_k11 ]\n",
    "MON_k21 = [ np.median(m) for m in means_evolution_filtered_k21 ]"
   ]
  },
  {
   "cell_type": "code",
   "execution_count": null,
   "metadata": {},
   "outputs": [],
   "source": [
    "AMON_k11 = [ alpha_mon(m, 11, 0.5) for m in means_evolution_filtered_k11 ]\n",
    "AMON_k21 = [ alpha_mon(m, 21, 0.5) for m in means_evolution_filtered_k21 ]"
   ]
  },
  {
   "cell_type": "code",
   "execution_count": null,
   "metadata": {},
   "outputs": [],
   "source": [
    "ADMON_k11 = [ dist_mon(m, 11, 4) for m in means_evolution_filtered_k11 ]\n",
    "ADMON_k21 = [ dist_mon(m, 21, 4) for m in means_evolution_filtered_k21 ]"
   ]
  },
  {
   "cell_type": "code",
   "execution_count": null,
   "metadata": {},
   "outputs": [],
   "source": [
    "params = {'backend': 'ps',\n",
    "          'axes.labelsize': 54,\n",
    "          'font.size': 40,\n",
    "          'legend.fontsize': 38,\n",
    "          'xtick.labelsize': 42,\n",
    "          'ytick.labelsize': 42,\n",
    "          'text.usetex': True,\n",
    "          'font.style': 'normal',\n",
    "          'font.weight': 'bold',\n",
    "          'axes.linewidth': 1.5,\n",
    "          'lines.linewidth': 4,\n",
    "          'figure.figsize': (18, 10)}\n",
    "\n",
    "\n",
    "plt.rcParams.update(params)\n",
    "\n",
    "plt.margins(tight=True)\n",
    "plt.tick_params(axis='both', width=2, length=15)\n",
    "\n",
    "labels = ['R', 'G', 'B']\n",
    "\n",
    "plt.plot([0, 100000], [r_true_mean, r_true_mean], lw=5, linestyle=\"--\")\n",
    "plt.plot(means, label='Mean', linewidth=4)\n",
    "plt.plot(MON_k11, label='MoN ($M=11$)', linewidth=4)\n",
    "plt.plot(ADMON_k11, label=r'MoN ($M=11$ and $c = 1$)', linewidth=4)\n",
    "\n",
    "#plt.xlim(-1, 100)\n",
    "        \n",
    "plt.xlabel(r\"$n$\")\n",
    "plt.ylabel(r\"Estimator\")\n",
    "#plt.ylim(0, 0.15)\n",
    "#plt.xlim(-0.03, 6)\n",
    "#plt.ylim(0.15, 0.20)\n",
    "\n",
    "plt.ylim(0, 0.04)\n",
    "plt.legend()\n",
    "plt.legend(loc='upper right', bbox_to_anchor=(1.0, 1.0), shadow=True, ncol=1, columnspacing=1)\n",
    "#plt.legend(loc='upper center', bbox_to_anchor=(0.5, -0.25), shadow=True, ncol=3)\n",
    "#plt.xticks(np.arange(-10, 15, step=5), np.arange(-10, 15, step=5))  # Set label locations.\n",
    "plt.xticks(np.arange(0, 120000, step=20000), display_high_number(np.arange(0, 120000, step=20000)))  # Set label locations.\n",
    "plt.yticks(np.arange(0, 0.05, step=0.01), prepare_mode_data(np.arange(0, 0.05, step=0.01)))\n",
    "#plt.xticks(fontsize=14)\n",
    "#plt.yticks(fontsize=14)\n",
    "plt.savefig(\"images/amon_estimators_A_and_G_no_outlier.png\", transparent=True, bbox_inches = 'tight', pad_inches = 0.2)\n",
    "plt.show()"
   ]
  }
 ],
 "metadata": {
  "kernelspec": {
   "display_name": "thesis-venv",
   "language": "python",
   "name": "thesis-venv"
  },
  "language_info": {
   "codemirror_mode": {
    "name": "ipython",
    "version": 3
   },
   "file_extension": ".py",
   "mimetype": "text/x-python",
   "name": "python",
   "nbconvert_exporter": "python",
   "pygments_lexer": "ipython3",
   "version": "3.6.1"
  }
 },
 "nbformat": 4,
 "nbformat_minor": 4
}
